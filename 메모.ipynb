# Machine-learning-with-python
파이썬을이용한통계적머신러닝/자유아카데미

print(input_arr.shape) #(샘플 수 , 특상 수) 출력
